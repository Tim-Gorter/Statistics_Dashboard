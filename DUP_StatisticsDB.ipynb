{
 "cells": [
  {
   "cell_type": "markdown",
   "id": "ac3b7332-c32a-4429-9b09-049bf82351be",
   "metadata": {},
   "source": [
    "<img align=\"right\" width=\"125\" src=\"https://www.ou.nl/documents/40554/3255217/Logo_OU.jpg\"/>\n",
    "\n",
    "<br>\n",
    "<center> <font size =\"6\" color='red'> DHL Data Science Program </font></center>\n",
    "<center> <font size =\"5.5\" color='red'> Data Understanding and Data Preparation</font></center> <br>\n",
    " <font size =\"4.5\" color='red'>Statistics Dashboard</font>\n",
    "    \n",
    "    \n",
    "Sampling Simulation, Hypothesis testing, ANOVA \n",
    "\n",
    "\n",
    "__________________________\n"
   ]
  },
  {
   "cell_type": "code",
   "execution_count": 1,
   "id": "e73419d8-d355-4c70-8151-63dd058d2807",
   "metadata": {},
   "outputs": [
    {
     "data": {
      "text/html": [
       "<style>.red_label { color:red }</style>"
      ],
      "text/plain": [
       "<IPython.core.display.HTML object>"
      ]
     },
     "metadata": {},
     "output_type": "display_data"
    },
    {
     "data": {
      "text/html": [
       "<style>.blue_label { color:blue }</style>"
      ],
      "text/plain": [
       "<IPython.core.display.HTML object>"
      ]
     },
     "metadata": {},
     "output_type": "display_data"
    },
    {
     "data": {
      "application/vnd.jupyter.widget-view+json": {
       "model_id": "ce54f4489b314e48bd70086d62c79ec0",
       "version_major": 2,
       "version_minor": 0
      },
      "text/plain": [
       "Tab(children=(VBox(children=(HBox(children=(Label(value='Population Parameters', description='Population', lay…"
      ]
     },
     "execution_count": 1,
     "metadata": {},
     "output_type": "execute_result"
    }
   ],
   "source": [
    "from IPython import display\n",
    "from ipywidgets import *\n",
    "import warnings\n",
    "warnings.filterwarnings(\"ignore\")\n",
    "online_version = True\n",
    "if online_version:\n",
    "    user = \"muratfirat78\"; repo = \"Statistics_Dashboard\"\n",
    "    if os.path.isdir(repo):\n",
    "        !rm -rf {repo}\n",
    "\n",
    "    !git clone https://github.com/{user}/{repo}.git\n",
    "    %cd /content/{repo}\n",
    "   \n",
    "from Visual import *\n",
    "VisManager = VisualManager()\n",
    "tab_set = widgets.Tab([VisManager.generateSamplingTab(),VisManager.generateHTTab(),VisManager.generateANTAB()])\n",
    "tab_set.set_title(2, 'ANOVA');tab_set.set_title(1, 'Hypothesis Testing');tab_set.set_title(0, 'Sampling');tab_set"
   ]
  },
  {
   "cell_type": "code",
   "execution_count": null,
   "id": "4c9e23df-96f8-423a-8195-8a2f8f08e2e6",
   "metadata": {},
   "outputs": [],
   "source": []
  },
  {
   "cell_type": "code",
   "execution_count": null,
   "id": "0ed83d34-a563-4f7f-b2df-29ec20d4581b",
   "metadata": {},
   "outputs": [],
   "source": []
  }
 ],
 "metadata": {
  "kernelspec": {
   "display_name": "Python 3 (ipykernel)",
   "language": "python",
   "name": "python3"
  },
  "language_info": {
   "codemirror_mode": {
    "name": "ipython",
    "version": 3
   },
   "file_extension": ".py",
   "mimetype": "text/x-python",
   "name": "python",
   "nbconvert_exporter": "python",
   "pygments_lexer": "ipython3",
   "version": "3.11.5"
  }
 },
 "nbformat": 4,
 "nbformat_minor": 5
}
